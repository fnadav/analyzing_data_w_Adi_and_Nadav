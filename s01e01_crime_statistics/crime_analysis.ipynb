{
 "cells": [
  {
   "cell_type": "code",
   "execution_count": null,
   "metadata": {},
   "outputs": [],
   "source": [
    "# %%\n",
    "'''\n",
    "00:00 Intro\n",
    "00:15 Criminal activities public data sets\n",
    "02:17 Loading data from csv and initial discovery\n",
    "08:00 Identifying different types of offences\n",
    "16:54 Sampling on specific types of offences\n",
    "39:03 Focusing on assult of public servant\n",
    "44:19 Distribution of offences by district/precinct\n",
    "52:35 Independence test between offence type and district\n",
    "'''"
   ]
  },
  {
   "cell_type": "code",
   "execution_count": null,
   "metadata": {},
   "outputs": [],
   "source": [
    "\n",
    "# %%  02:17  Loading data from excel and initial discovery\n",
    "\n",
    "import pathlib\n",
    "import warnings\n",
    "import pandas as pd\n",
    "warnings.filterwarnings('ignore')\n",
    "\n",
    "file_name = \"\\\\data\\\\criminal_files_detailed.csv\"\n",
    "relative_path = str(pathlib.Path().resolve())\n",
    "crime = pd.read_csv(relative_path + file_name, encoding='cp1255')  # load into DataFrame object\n",
    "\n",
    "crime.tail(n=2)\n"
   ]
  },
  {
   "cell_type": "code",
   "execution_count": null,
   "metadata": {},
   "outputs": [],
   "source": [
    "# %%  08:00  Identifying different types of offences\n",
    "\n",
    "import numpy as np\n",
    "\n",
    "# see unique num of crime types\n",
    "crime['StatisticCrimeType'].nunique()\n",
    "\n",
    "# before we can sum on TikimSum we need to clean up its mess. its actually a columns\n",
    "# of 'objects' which are in this case strings - we want all of them to be neat integers\n",
    "# for our case. problem is - some strings have a comma in them which prevents successful\n",
    "# casting\n",
    "crime['TikimSum'] = crime['TikimSum'].apply(lambda x: x.strip().replace(',', '') if isinstance(x, str) else x)\n",
    "crime['TikimSum'] = crime['TikimSum'].astype(int)\n",
    "\n",
    "# see top 50 crimes. we need to sum accross quarter and location\n",
    "crime_sum = crime.groupby('StatisticCrimeType')['TikimSum'].sum().rename('total_offences').sort_values(ascending=False)\n",
    "crime_sum[:50]  # this is a series\n"
   ]
  },
  {
   "cell_type": "code",
   "execution_count": null,
   "metadata": {},
   "outputs": [],
   "source": [
    "# %%  16:54  Focusing on specific types of offences\n",
    "\n",
    "# a bunch of 'str.contains' matches separated by or - like the strdetect in the blog\n",
    "filter_words = ['התפרצות', 'קטטות', 'מרמה', 'עובד ציבור']\n",
    "selected_offences = crime[crime['StatisticCrimeType'].str.contains('|'.join(filter_words), na=False)]\n",
    "selected_offences.head(10)"
   ]
  },
  {
   "cell_type": "code",
   "execution_count": null,
   "metadata": {},
   "outputs": [],
   "source": [
    "# a bunch of exact matches separated by or - as in blog\n",
    "filter_words = ['התפרצות לבתי עסק ומוסדות',\n",
    "                'התפרצות לבית דירה',\n",
    "                'קטטות והפרעות ברחובות',\n",
    "                'מרמה ועושק']\n",
    "selected_offences = crime[crime['StatisticCrimeType'].isin(filter_words)]\n",
    "selected_offences.head(10)\n"
   ]
  },
  {
   "cell_type": "code",
   "execution_count": null,
   "metadata": {},
   "outputs": [],
   "source": [
    "# sum of offences per quarter and type\n",
    "offences_over_time = selected_offences.groupby(['Quarter', 'StatisticCrimeType'])['TikimSum'].sum().rename('num_offences')"
   ]
  },
  {
   "cell_type": "code",
   "execution_count": null,
   "metadata": {},
   "outputs": [],
   "source": [
    "# in the blog we plotted offences per quarter, stacked bars\n",
    "offences_over_time.reset_index()[['Quarter', 'StatisticCrimeType', 'num_offences']] \\\n",
    "  .pivot_table(index='Quarter', columns='StatisticCrimeType') \\\n",
    "  .plot(kind='bar', stacked=True, figsize=(12, 8))\n"
   ]
  },
  {
   "cell_type": "code",
   "execution_count": null,
   "metadata": {},
   "outputs": [],
   "source": [
    "import matplotlib.pyplot as plt\n",
    "\n",
    "# the legend on the previous plot had bad labels, we can only edit it by using\n",
    "# using lower methods at matplotlib\n",
    "_, ax = plt.subplots()\n",
    "offences_over_time_plot = offences_over_time.reset_index()[['Quarter', 'StatisticCrimeType', 'num_offences']] \\\n",
    "  .pivot_table(index='Quarter', columns='StatisticCrimeType')\n",
    "offences_over_time_plot.plot(kind='bar', stacked=True, figsize=(12, 8), ax=ax)\n",
    "\n",
    "labels = [name[::-1] for name in offences_over_time_plot.columns.get_level_values('StatisticCrimeType')]\n",
    "ax.legend(labels)\n"
   ]
  },
  {
   "cell_type": "code",
   "execution_count": null,
   "metadata": {},
   "outputs": [],
   "source": [
    "import matplotlib.pyplot as plt\n",
    "\n",
    "# the legend on the previous plot had bad labels, we can only edit it by using\n",
    "# using lower methods at matplotlib\n",
    "fig, ax = plt.subplots(2, 2, figsize=(16, 12))\n",
    "offences_over_time_plot = offences_over_time.reset_index()[['Quarter', 'StatisticCrimeType', 'num_offences']] \\\n",
    "  .pivot_table(index='Quarter', columns='StatisticCrimeType')\n",
    "\n",
    "# fix labels (drop the 'num_columns' from the label, reverse hebrew offence names)\n",
    "offences_over_time_plot = offences_over_time_plot.droplevel(level=0, axis=1)\n",
    "offences_over_time_plot.rename(columns={name:name[::-1] for name in offences_over_time_plot.columns}, inplace=True)\n",
    "\n",
    "offences_over_time_plot.plot(kind='bar', subplots=True, figsize=(12, 8), ax=ax, color='black')\n",
    "fig.tight_layout()\n",
    "plt.show()\n"
   ]
  },
  {
   "cell_type": "code",
   "execution_count": null,
   "metadata": {},
   "outputs": [],
   "source": [
    "# %%  39:03  Focusing on assult of public servant\n",
    "\n",
    "selected_offences = crime[crime['StatisticCrimeType'] == 'תקיפת עובדי צבור בתפקיד']\n",
    "offences_over_time = selected_offences.groupby(['Quarter', 'StatisticCrimeType'])['TikimSum'].sum().rename('num_offences')\n",
    "\n",
    "offences_over_time.reset_index()[['Quarter', 'StatisticCrimeType', 'num_offences']] \\\n",
    "  .pivot_table(index='Quarter', columns='StatisticCrimeType') \\\n",
    "  .plot(kind='bar', legend=False, title='תקיפת עובדי צבור בתפקיד'[::-1])\n"
   ]
  },
  {
   "cell_type": "code",
   "execution_count": null,
   "metadata": {},
   "outputs": [],
   "source": [
    "# %%  44:19  Distribution of offences by district/precinct\n",
    "\n",
    "# we take all the previous 5 offences, like in the blog\n",
    "filter_words = ['התפרצות לבתי עסק ומוסדות',\n",
    "                'התפרצות לבית דירה',\n",
    "                'קטטות והפרעות ברחובות',\n",
    "                'מרמה ועושק',\n",
    "                'תקיפת עובדי צבור בתפקיד']\n",
    "selected_offences = crime[crime['StatisticCrimeType'].isin(filter_words)]\n",
    "num_offences_grp = selected_offences.groupby(['PoliceDistrict', 'StatisticCrimeType'])['TikimSum'].sum().rename('num_offences')\n",
    "num_offences = num_offences_grp.reset_index()[['PoliceDistrict', 'StatisticCrimeType', 'num_offences']]\n",
    "num_offences_piv = num_offences.pivot_table(index='PoliceDistrict', columns='StatisticCrimeType')\n",
    "\n",
    "# the columns are a pair of labels - <offence, 'num_offences'> --> drop the level\n",
    "# 'num_offences' because its same everywhere and messes the legend in the plot\n",
    "num_offences_piv.columns = num_offences_piv.columns.droplevel(0)\n",
    "\n",
    "# cheat and reverse index labels for right-to-left plotting\n",
    "num_offences_piv.columns = [label[::-1] for label in num_offences_piv.columns]\n",
    "num_offences_piv.index = [label[::-1] for label in num_offences_piv.index]\n",
    "\n",
    "num_offences_piv.plot(kind='bar', stacked=True, figsize=(12, 8))"
   ]
  },
  {
   "cell_type": "code",
   "execution_count": null,
   "metadata": {},
   "outputs": [],
   "source": [
    "# bars plot - normalized\n",
    "# ----------------------\n",
    "\n",
    "# there is no nice way to normalize like in R (seen in the blog video) for this\n",
    "# kind of plot with pandas, so we'll calc percentage and plot that\n",
    "num_offences_grp_pct = \\\n",
    "    (num_offences.groupby(['PoliceDistrict', 'StatisticCrimeType'])['num_offences'].sum().rename('num_offences')/num_offences.groupby(['PoliceDistrict'])['num_offences'].sum().rename('num_offences'))\n",
    "num_offences_pct = num_offences_grp_pct.reset_index()\n",
    "\n",
    "# the reset is the same as for non-normalized\n",
    "num_offences_pct_piv = num_offences_pct.pivot_table(index='PoliceDistrict', columns='StatisticCrimeType')\n",
    "num_offences_pct_piv.columns = num_offences_pct_piv.columns.droplevel(0)                # remove redundant column label\n",
    "num_offences_pct_piv.columns = [label[::-1] for label in num_offences_pct_piv.columns]  # handle hebrew\n",
    "num_offences_pct_piv.index = [label[::-1] for label in num_offences_pct_piv.index]      # handle hebrew\n",
    "num_offences_pct_piv.plot(kind='bar', stacked=True, figsize=(12, 8))"
   ]
  },
  {
   "cell_type": "code",
   "execution_count": null,
   "metadata": {},
   "outputs": [],
   "source": [
    "# %%  52:35  Independence test\n",
    "\n",
    "#tot_offences_overall = selected_offences.\n",
    "\n",
    "num_offences_grp\n",
    "\n",
    "# lets perform a chi-square test to see if there is coupling between type of offence and district\n",
    "#selected_offences.head()\n",
    "#crosstab = pd.crosstab(selected_offences[\"PoliceDistrict\"], selected_offences[\"StatisticCrimeType\"])\n",
    "#crosstab.head()\n",
    "\n",
    "#stats.chi2_contingency(crosstab)"
   ]
  }
 ],
 "metadata": {
  "kernelspec": {
   "display_name": "Python 3.10.4 64-bit",
   "language": "python",
   "name": "python3"
  },
  "language_info": {
   "codemirror_mode": {
    "name": "ipython",
    "version": 3
   },
   "file_extension": ".py",
   "mimetype": "text/x-python",
   "name": "python",
   "nbconvert_exporter": "python",
   "pygments_lexer": "ipython3",
   "version": "3.10.4"
  },
  "orig_nbformat": 4,
  "vscode": {
   "interpreter": {
    "hash": "4268ac94ad4f43dc900ee22220ffcab38244b28ad83095f55c88d55037c04c8e"
   }
  }
 },
 "nbformat": 4,
 "nbformat_minor": 2
}
